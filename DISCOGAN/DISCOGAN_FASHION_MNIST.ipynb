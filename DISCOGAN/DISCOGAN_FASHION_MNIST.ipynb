{
 "cells": [
  {
   "cell_type": "code",
   "execution_count": 1,
   "metadata": {
    "colab": {
     "base_uri": "https://localhost:8080/",
     "height": 34
    },
    "colab_type": "code",
    "id": "ELvBKZTI1U9t",
    "outputId": "d9608209-700b-40ac-9e2a-1c4432b6ef6f"
   },
   "outputs": [
    {
     "name": "stderr",
     "output_type": "stream",
     "text": [
      "Using TensorFlow backend.\n"
     ]
    }
   ],
   "source": [
    "import numpy as np\n",
    "import h5py\n",
    "import pandas as pd\n",
    "import matplotlib.pyplot as plt\n",
    "import matplotlib.gridspec as gridspec\n",
    "\n",
    "from keras.layers import Input,Dense,Reshape,Conv2D,Dropout,multiply,dot\n",
    "from keras.layers import BatchNormalization,LeakyReLU,Flatten,Embedding\n",
    "from keras.layers import Conv2DTranspose as Deconv2d\n",
    "from keras.models import Sequential, Model\n",
    "from keras.optimizers import Adam\n",
    "\n",
    "from keras import backend as K\n",
    "\n",
    "\n",
    "from sklearn.utils import shuffle"
   ]
  },
  {
   "cell_type": "code",
   "execution_count": 2,
   "metadata": {},
   "outputs": [],
   "source": [
    "import mnist_reader\n",
    "\n",
    "X_whole, Y_whole = mnist_reader.load_mnist('', kind='train')"
   ]
  },
  {
   "cell_type": "code",
   "execution_count": 3,
   "metadata": {
    "colab": {},
    "colab_type": "code",
    "id": "ftOiTUZF1waG"
   },
   "outputs": [],
   "source": [
    "\n",
    "i_A = np.argwhere(Y_whole==0)\n",
    "i_B = np.argwhere(Y_whole==1)\n",
    "\n",
    "x_a = X_whole[i_A].reshape(6000,28,28,1)/255\n",
    "x_b = X_whole[i_B].reshape(6000,28,28,1)/255\n",
    "\n",
    "x_shape = (28,28,1)\n"
   ]
  },
  {
   "cell_type": "code",
   "execution_count": 4,
   "metadata": {
    "colab": {
     "base_uri": "https://localhost:8080/",
     "height": 34
    },
    "colab_type": "code",
    "id": "FOnRB6_WRTxW",
    "outputId": "3df26fa8-eb88-431f-d8cf-7fabb53593c7"
   },
   "outputs": [],
   "source": [
    "def plot(A,AB,ABA,n):\n",
    "\n",
    "    samples = [A,AB,ABA]\n",
    "    fig = plt.figure(figsize=(3,n))\n",
    "    gs = gridspec.GridSpec(3,n)\n",
    "    g=0\n",
    "    for i in range(3):\n",
    "        for j in range(n):\n",
    "            ax = plt.subplot(gs[g])\n",
    "            g+=1\n",
    "            plt.axis('off')\n",
    "            ax.set_xticklabels([])\n",
    "            ax.set_yticklabels([])\n",
    "            ax.set_aspect('equal')\n",
    "            plt.imshow(samples[i][j].reshape(28, 28), cmap='Greys_r')\n",
    "\n",
    "    return fig"
   ]
  },
  {
   "cell_type": "code",
   "execution_count": 5,
   "metadata": {
    "colab": {},
    "colab_type": "code",
    "id": "aT7s8aUt2L9S"
   },
   "outputs": [],
   "source": [
    "def discriminator():\n",
    "    \n",
    "    model = Sequential()\n",
    "    \n",
    "    model.add(Conv2D(4,kernel_size = 3, strides = 2,input_shape = x_shape))\n",
    "    model.add(LeakyReLU(0.2))\n",
    "    model.add(BatchNormalization(momentum=0.8))\n",
    "    model.add(Conv2D(8,kernel_size = 3))\n",
    "    model.add(LeakyReLU(0.2))\n",
    "    model.add(BatchNormalization(momentum=0.8))\n",
    "    model.add(Conv2D(16,kernel_size = 3))\n",
    "    model.add(LeakyReLU(0.2))\n",
    "    model.add(BatchNormalization(momentum=0.8))\n",
    "    model.add(Conv2D(32,kernel_size = 3))\n",
    "    model.add(LeakyReLU(0.2))\n",
    "    model.add(BatchNormalization(momentum=0.8))\n",
    "    model.add(Flatten())\n",
    "    model.add(Dense(128))\n",
    "    model.add(Dense(1,activation = 'sigmoid'))\n",
    "    \n",
    "    return model"
   ]
  },
  {
   "cell_type": "code",
   "execution_count": 6,
   "metadata": {
    "colab": {},
    "colab_type": "code",
    "id": "UWE3_PyT5ZnQ"
   },
   "outputs": [],
   "source": [
    "def generator():\n",
    "  \n",
    "    model = Sequential()\n",
    "    \n",
    "    model.add(Conv2D(4,kernel_size = 3, strides = 2,input_shape = x_shape))\n",
    "    model.add(LeakyReLU(0.2))\n",
    "    model.add(BatchNormalization(momentum=0.8))\n",
    "    model.add(Conv2D(8,kernel_size = 3))\n",
    "    model.add(LeakyReLU(0.2))\n",
    "    model.add(BatchNormalization(momentum=0.8))\n",
    "    model.add(Conv2D(16,kernel_size = 3))\n",
    "    model.add(LeakyReLU(0.2))\n",
    "    model.add(BatchNormalization(momentum=0.8))\n",
    "    model.add(Flatten())\n",
    "    model.add(Dense(512))\n",
    "    \n",
    "    model.add(Dense(9*9*16))\n",
    "    model.add(Reshape((9,9,16)))\n",
    "    model.add(Deconv2d(8,kernel_size = 3,activation = \"relu\"))\n",
    "    model.add(BatchNormalization(momentum=0.8))\n",
    "    model.add(Deconv2d(4,kernel_size = 3,activation = \"relu\"))\n",
    "    model.add(BatchNormalization(momentum=0.8))\n",
    "    model.add(Deconv2d(1,kernel_size = 4,activation = \"tanh\",strides = 2))\n",
    "    \n",
    "    return model"
   ]
  },
  {
   "cell_type": "code",
   "execution_count": 7,
   "metadata": {
    "colab": {},
    "colab_type": "code",
    "id": "1perIv4Y5at_"
   },
   "outputs": [],
   "source": [
    "genAB = generator()\n",
    "genBA = generator()\n",
    "\n",
    "disA = discriminator()\n",
    "disB = discriminator()\n",
    "\n",
    "X_A = Input(shape = x_shape)\n",
    "X_AB = genAB(X_A)\n",
    "X_ABA = genBA(X_AB)\n",
    "\n",
    "X_A_Flatten = Flatten()(X_A)\n",
    "X_ABA_Flatten = Flatten()(X_ABA)\n",
    "\n",
    "D_X_AB = disB(X_AB)\n",
    "\n",
    "cosdist_X_A = dot([X_A_Flatten,X_ABA_Flatten], normalize = True,axes=1)\n",
    "\n",
    "combined_AB = Model(X_A,[D_X_AB,cosdist_X_A])\n",
    "\n",
    "X_B = Input(shape = x_shape)\n",
    "X_BA = genBA(X_B)\n",
    "X_BAB = genAB(X_BA)\n",
    "\n",
    "X_B_Flatten = Flatten()(X_B)\n",
    "X_BAB_Flatten = Flatten()(X_BAB)\n",
    "\n",
    "D_X_BA = disA(X_BA)\n",
    "\n",
    "cosdist_X_B = dot([X_B_Flatten,X_BAB_Flatten], normalize = True,axes=1)\n",
    "\n",
    "combined_BA = Model(X_B,[D_X_BA,cosdist_X_B])"
   ]
  },
  {
   "cell_type": "code",
   "execution_count": 8,
   "metadata": {
    "colab": {},
    "colab_type": "code",
    "id": "Hgpd0-rZ9Hu3"
   },
   "outputs": [],
   "source": [
    "adams = Adam(lr = 0.0001)\n",
    "combined_AB.compile(loss=['binary_crossentropy','binary_crossentropy'],optimizer = adams)\n",
    "combined_BA.compile(loss=['binary_crossentropy','binary_crossentropy'],optimizer = adams)\n",
    "disA.compile(loss='binary_crossentropy',optimizer = adams)\n",
    "disB.compile(loss='binary_crossentropy',optimizer = adams)"
   ]
  },
  {
   "cell_type": "code",
   "execution_count": 9,
   "metadata": {
    "colab": {},
    "colab_type": "code",
    "id": "35f2IXMsIa_S"
   },
   "outputs": [],
   "source": [
    "epochs = 20\n",
    "batch_size = 16\n",
    "batches = int(6000/16)\n",
    "dis_updates = 1\n",
    "gen_updates = 1\n",
    "zero=np.zeros((batch_size,1))\n",
    "one=np.ones((batch_size,1))\n",
    "d_loss_factor = batches*2*dis_updates\n",
    "g_loss_factor = batches*gen_updates"
   ]
  },
  {
   "cell_type": "code",
   "execution_count": 10,
   "metadata": {
    "colab": {},
    "colab_type": "code",
    "id": "mIrfcBtcJzIM"
   },
   "outputs": [],
   "source": [
    "if(True):\n",
    "\n",
    "    genAB.load_weights(\"generatorAB_n.h5\")\n",
    "    genBA.load_weights(\"generatorBA_n.h5\")\n",
    "    disA.load_weights(\"discriminatorA_n.h5\")\n",
    "    disB.load_weights(\"discriminatorB_n.h5\")"
   ]
  },
  {
   "cell_type": "code",
   "execution_count": null,
   "metadata": {
    "colab": {
     "base_uri": "https://localhost:8080/",
     "height": 185
    },
    "colab_type": "code",
    "collapsed": true,
    "id": "Rq8DqOAwI-sf",
    "outputId": "f1de2b55-e94d-4801-ea5d-458a6f5ff3ab"
   },
   "outputs": [
    {
     "name": "stdout",
     "output_type": "stream",
     "text": [
      "##############\n",
      "For Epoch:0\n",
      "Training Discriminator\n",
      "Training Generator\n",
      "##############\n",
      "For Epoch:1\n",
      "Training Discriminator\n",
      "Training Generator\n",
      "##############\n",
      "For Epoch:2\n",
      "Training Discriminator\n",
      "Training Generator\n",
      "DisA loss:0.046627135484392054\n",
      "DisB loss:0.05768821697197078\n",
      "GenAB loss:0.06144740722638865\n",
      "GenABA loss:0.05489670750002066\n",
      "GenBA loss:0.10375010728614871\n",
      "GenBAB loss:0.027102981413404146\n",
      "##############\n",
      "For Epoch:3\n",
      "Training Discriminator\n",
      "Training Generator\n",
      "##############\n",
      "For Epoch:4\n",
      "Training Discriminator\n",
      "Training Generator\n",
      "##############\n",
      "For Epoch:5\n",
      "Training Discriminator\n",
      "Training Generator\n",
      "DisA loss:0.03845943924008558\n",
      "DisB loss:0.035424724905741944\n",
      "GenAB loss:0.05745373509490552\n",
      "GenABA loss:0.05467818689843019\n",
      "GenBA loss:0.11526924025678696\n",
      "GenBAB loss:0.025846634097397327\n",
      "##############\n",
      "For Epoch:6\n",
      "Training Discriminator\n",
      "Training Generator\n",
      "##############\n",
      "For Epoch:7\n",
      "Training Discriminator\n",
      "Training Generator\n",
      "##############\n",
      "For Epoch:8\n",
      "Training Discriminator\n",
      "Training Generator\n",
      "DisA loss:0.040568143357658605\n",
      "DisB loss:0.035088736612327316\n",
      "GenAB loss:0.074292722474318\n",
      "GenABA loss:0.05417558808624744\n",
      "GenBA loss:0.10258178308117204\n",
      "GenBAB loss:0.026271122080584366\n",
      "##############\n",
      "For Epoch:9\n",
      "Training Discriminator\n",
      "Training Generator\n",
      "##############\n",
      "For Epoch:10\n",
      "Training Discriminator\n",
      "Training Generator\n",
      "##############\n",
      "For Epoch:11\n",
      "Training Discriminator\n",
      "Training Generator\n",
      "DisA loss:0.03575773747183363\n",
      "DisB loss:0.030086844665931495\n",
      "GenAB loss:0.08847103015325652\n",
      "GenABA loss:0.053547383760412536\n",
      "GenBA loss:0.0986567054313297\n",
      "GenBAB loss:0.025751601186891397\n",
      "##############\n",
      "For Epoch:12\n",
      "Training Discriminator\n"
     ]
    }
   ],
   "source": [
    "\n",
    "for epoch in range(epochs):\n",
    "    \n",
    "    print(\"##############\")\n",
    "    print(\"For Epoch:\"+str(epoch))\n",
    "    \n",
    "    dA_loss = 0\n",
    "    dB_loss = 0\n",
    "    \n",
    "    gAB_loss = 0\n",
    "    gABA_loss = 0\n",
    "    gBA_loss = 0\n",
    "    gBAB_loss = 0\n",
    "    \n",
    "    print(\"Training Discriminator\")\n",
    "    \n",
    "    i_a = shuffle(range(6000))\n",
    "    i_b = shuffle(range(6000))\n",
    "    \n",
    "    disA.trainable = True\n",
    "    disB.trainable = True\n",
    "        \n",
    "    disA.compile(loss = \"binary_crossentropy\", optimizer = adams)\n",
    "    disB.compile(loss = \"binary_crossentropy\", optimizer = adams)\n",
    "    \n",
    "    for j in range(dis_updates):\n",
    "      \n",
    "      for b in range(batches):\n",
    "        \n",
    "        x_a_batch = x_a[i_a[b*batch_size:(b+1)*batch_size]]\n",
    "        x_b_batch = x_b[i_b[b*batch_size:(b+1)*batch_size]]\n",
    "        \n",
    "        x_ab_batch = genAB.predict(x_a_batch)\n",
    "        x_ba_batch = genBA.predict(x_b_batch)\n",
    "        \n",
    "        dA_loss += disA.train_on_batch(x_a_batch,one)\n",
    "        dA_loss += disA.train_on_batch(x_ba_batch,zero)\n",
    "        \n",
    "        dB_loss += disB.train_on_batch(x_b_batch,one)\n",
    "        dB_loss += disB.train_on_batch(x_ab_batch,zero)\n",
    "    \n",
    "    print(\"Training Generator\") \n",
    "    \n",
    "    disA.trainable = False\n",
    "    disB.trainable = False\n",
    "        \n",
    "    disA.compile(loss = \"binary_crossentropy\", optimizer = adams)\n",
    "    disB.compile(loss = \"binary_crossentropy\", optimizer = adams)\n",
    "    combined_AB.compile(loss=['binary_crossentropy','binary_crossentropy'],optimizer = adams)\n",
    "    combined_BA.compile(loss=['binary_crossentropy','binary_crossentropy'],optimizer = adams)\n",
    "    \n",
    "    \n",
    "    for j in range(gen_updates):\n",
    "      \n",
    "      for b in range(batches):\n",
    "        \n",
    "        x_a_batch = x_a[i_a[b*batch_size:(b+1)*batch_size]]\n",
    "        x_b_batch = x_b[i_b[b*batch_size:(b+1)*batch_size]]\n",
    "                \n",
    "        _,lab,laba = combined_AB.train_on_batch(x_a_batch,[one,one])\n",
    "        _,lba,lbab = combined_BA.train_on_batch(x_b_batch,[one,one])  \n",
    "            \n",
    "        gAB_loss += lab\n",
    "        gABA_loss += laba\n",
    "        gBA_loss += lba\n",
    "        gBAB_loss += lbab\n",
    "    \n",
    "    dA_loss /= d_loss_factor\n",
    "    dB_loss /= d_loss_factor\n",
    "    \n",
    "    gAB_loss /= g_loss_factor\n",
    "    gABA_loss /= g_loss_factor\n",
    "    gBA_loss /= g_loss_factor\n",
    "    gBAB_loss /= g_loss_factor\n",
    "    \n",
    "    if epoch%3==2:\n",
    "    \n",
    "        print(\"DisA loss:\"+str(dA_loss))\n",
    "        print(\"DisB loss:\"+str(dB_loss))    \n",
    "        print(\"GenAB loss:\"+str(gAB_loss))\n",
    "        print(\"GenABA loss:\"+str(gABA_loss))    \n",
    "        print(\"GenBA loss:\"+str(gBA_loss))\n",
    "        print(\"GenBAB loss:\"+str(gBAB_loss))\n",
    "        \n",
    "        #plt_indices = np.random.randint(1000,size=3) \n",
    "        #plt_x_a = x_a[plt_indices]\n",
    "        #plt_x_ab = genAB.predict(plt_x_a)\n",
    "        #plt_x_aba = genBA.predict(plt_x_ab)\n",
    "        #plt_x_b = x_b[plt_indices]\n",
    "        #plt_x_ba = genBA.predict(plt_x_b)\n",
    "        #plt_x_bab = genAB.predict(plt_x_ba)\n",
    "        #fig = plot(plt_x_a,plt_x_ab,plt_x_aba,3)\n",
    "        #fig = plot(plt_x_b,plt_x_ba,plt_x_bab,3)\n",
    "        #plt.show()\n",
    "        #plt.close(fig) \n",
    "        \n",
    "        genAB.save_weights(\"generatorAB_n.h5\")\n",
    "        genBA.save_weights(\"generatorBA_n.h5\")\n",
    "        disA.save_weights(\"discriminatorA_n.h5\")\n",
    "        disB.save_weights(\"discriminatorB_n.h5\")\n",
    "      "
   ]
  },
  {
   "cell_type": "code",
   "execution_count": 59,
   "metadata": {},
   "outputs": [
    {
     "data": {
      "image/png": "[encoded data removed]",
      "text/plain": [
       "<Figure size 216x216 with 9 Axes>"
      ]
     },
     "metadata": {
      "needs_background": "light"
     },
     "output_type": "display_data"
    },
    {
     "data": {
      "image/png": "[encoded data removed]",
      "text/plain": [
       "<Figure size 216x216 with 9 Axes>"
      ]
     },
     "metadata": {
      "needs_background": "light"
     },
     "output_type": "display_data"
    }
   ],
   "source": [
    "plt_indices = np.random.randint(1000,size=3) \n",
    "plt_x_a = x_a[plt_indices]\n",
    "plt_x_ab = genAB.predict(plt_x_a)\n",
    "plt_x_aba = genBA.predict(plt_x_ab)\n",
    "plt_x_b = x_b[plt_indices]\n",
    "plt_x_ba = genBA.predict(plt_x_b)\n",
    "plt_x_bab = genAB.predict(plt_x_ba)\n",
    "fig = plot(plt_x_a,plt_x_ab,plt_x_aba,3)\n",
    "fig = plot(plt_x_b,plt_x_ba,plt_x_bab,3)\n",
    "plt.show()\n",
    "plt.close(fig) "
   ]
  },
  {
   "cell_type": "code",
   "execution_count": 12,
   "metadata": {},
   "outputs": [],
   "source": []
  }
 ],
 "metadata": {
  "accelerator": "GPU",
  "colab": {
   "name": "DISCOGAN_FASHION_MNIST.ipynb",
   "provenance": [],
   "version": "0.3.2"
  },
  "kernelspec": {
   "display_name": "Python 3",
   "language": "python",
   "name": "python3"
  },
  "language_info": {
   "codemirror_mode": {
    "name": "ipython",
    "version": 3
   },
   "file_extension": ".py",
   "mimetype": "text/x-python",
   "name": "python",
   "nbconvert_exporter": "python",
   "pygments_lexer": "ipython3",
   "version": "3.6.7"
  }
 },
 "nbformat": 4,
 "nbformat_minor": 1
}
